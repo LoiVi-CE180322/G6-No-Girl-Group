{
 "cells": [
  {
   "cell_type": "code",
   "execution_count": 2,
   "metadata": {},
   "outputs": [],
   "source": [
    "def assert_numbers(num1, num2):\n",
    "    try:\n",
    "        assert num1 == num2, f\"Có lỗi bất thường! Chúc bạn may mắn lần chạy kế tiếp!\"\n",
    "        print(\"Chúc mừng bạn!\")\n",
    "    except AssertionError as e:\n",
    "        print(e)"
   ]
  },
  {
   "cell_type": "code",
   "execution_count": 3,
   "metadata": {},
   "outputs": [],
   "source": [
    "def midRangeGrayscale(rgb_image):\n",
    "    # Create an empty array for the grayscale image\n",
    "    gray_image = np.zeros((rgb_image.shape[0], rgb_image.shape[1]), dtype=np.uint8)\n",
    "\n",
    "    # Loop through each pixel and apply the grayscale conversion formula\n",
    "    for i in range(rgb_image. shape[0]):\n",
    "        for j in range(rgb_image. shape[1]):\n",
    "            gray_value = 0\n",
    "            r = rgb_image[i, j, 0]\n",
    "            g = rgb_image[i, j, 1]\n",
    "            b = rgb_image[i, j, 2]\n",
    "\n",
    "    # start your code here\n",
    "            c = [r, g, b]\n",
    "            c.sort()\n",
    "            min_i = c[0]\n",
    "            max_i = c[-1]\n",
    "            \n",
    "            gray_value = int(min_i*0.5 + max_i*0.5)\n",
    "    # end your code here\n",
    "\n",
    "            gray_image[i, j] = gray_value\n",
    "    return gray_image"
   ]
  },
  {
   "cell_type": "code",
   "execution_count": 6,
   "metadata": {},
   "outputs": [
    {
     "ename": "AttributeError",
     "evalue": "'NoneType' object has no attribute 'shape'",
     "output_type": "error",
     "traceback": [
      "\u001b[1;31m---------------------------------------------------------------------------\u001b[0m",
      "\u001b[1;31mAttributeError\u001b[0m                            Traceback (most recent call last)",
      "Cell \u001b[1;32mIn[6], line 4\u001b[0m\n\u001b[0;32m      2\u001b[0m \u001b[38;5;28;01mimport\u001b[39;00m \u001b[38;5;21;01mcv2\u001b[39;00m\n\u001b[0;32m      3\u001b[0m input_image \u001b[38;5;241m=\u001b[39m cv2\u001b[38;5;241m.\u001b[39mimread(\u001b[38;5;124m\"\u001b[39m\u001b[38;5;124mPEReview.jpg\u001b[39m\u001b[38;5;124m\"\u001b[39m, cv2\u001b[38;5;241m.\u001b[39mIMREAD_COLOR)\n\u001b[1;32m----> 4\u001b[0m gray_image \u001b[38;5;241m=\u001b[39m \u001b[43mmidRangeGrayscale\u001b[49m\u001b[43m(\u001b[49m\u001b[43minput_image\u001b[49m\u001b[43m)\u001b[49m\n\u001b[0;32m      5\u001b[0m assert_numbers(\u001b[38;5;241m124691\u001b[39m, \u001b[38;5;28msum\u001b[39m(\u001b[38;5;28msum\u001b[39m(gray_image)))\n\u001b[0;32m      6\u001b[0m cv2\u001b[38;5;241m.\u001b[39mimwrite(\u001b[38;5;124m\"\u001b[39m\u001b[38;5;124mgray_image.png\u001b[39m\u001b[38;5;124m\"\u001b[39m, gray_image)\n",
      "Cell \u001b[1;32mIn[3], line 3\u001b[0m, in \u001b[0;36mmidRangeGrayscale\u001b[1;34m(rgb_image)\u001b[0m\n\u001b[0;32m      1\u001b[0m \u001b[38;5;28;01mdef\u001b[39;00m \u001b[38;5;21mmidRangeGrayscale\u001b[39m(rgb_image):\n\u001b[0;32m      2\u001b[0m     \u001b[38;5;66;03m# Create an empty array for the grayscale image\u001b[39;00m\n\u001b[1;32m----> 3\u001b[0m     gray_image \u001b[38;5;241m=\u001b[39m np\u001b[38;5;241m.\u001b[39mzeros((\u001b[43mrgb_image\u001b[49m\u001b[38;5;241;43m.\u001b[39;49m\u001b[43mshape\u001b[49m[\u001b[38;5;241m0\u001b[39m], rgb_image\u001b[38;5;241m.\u001b[39mshape[\u001b[38;5;241m1\u001b[39m]), dtype\u001b[38;5;241m=\u001b[39mnp\u001b[38;5;241m.\u001b[39muint8)\n\u001b[0;32m      5\u001b[0m     \u001b[38;5;66;03m# Loop through each pixel and apply the grayscale conversion formula\u001b[39;00m\n\u001b[0;32m      6\u001b[0m     \u001b[38;5;28;01mfor\u001b[39;00m i \u001b[38;5;129;01min\u001b[39;00m \u001b[38;5;28mrange\u001b[39m(rgb_image\u001b[38;5;241m.\u001b[39m shape[\u001b[38;5;241m0\u001b[39m]):\n",
      "\u001b[1;31mAttributeError\u001b[0m: 'NoneType' object has no attribute 'shape'"
     ]
    }
   ],
   "source": [
    "import numpy as np\n",
    "import cv2\n",
    "input_image = cv2.imread(\"PEReview.jpg\", cv2.IMREAD_COLOR)\n",
    "gray_image = midRangeGrayscale(input_image)\n",
    "assert_numbers(124691, sum(sum(gray_image)))\n",
    "cv2.imwrite(\"gray_image.png\", gray_image)\n"
   ]
  },
  {
   "cell_type": "code",
   "execution_count": 95,
   "metadata": {},
   "outputs": [],
   "source": [
    "def computeMaxFilter(image, kernelSize=7, padding = False):\n",
    "    if(padding):\n",
    "        col_pad = np.zeros( [image.shape[0], 1])\n",
    "        image = np.concatenate((col_pad, image, col_pad), axis = 1)\n",
    "        row_pad = np.zeros([1, image. shape [1] ] )\n",
    "        image = np.concatenate((row_pad, image, row_pad), axis = 0)\n",
    "\n",
    "    xIn, yIn = np.shape(image)\n",
    "    xKer, yKer = kernelSize, kernelSize\n",
    "\n",
    "    xOut = int(xIn - xKer + 1)\n",
    "    yOut = int(yIn - yKer + 1)\n",
    "\n",
    "    output = np.zeros((xOut, yOut))\n",
    "\n",
    "    # start your code here\n",
    "    for y in range(yOut):\n",
    "        for x in range(xOut):\n",
    "                output[x, y] = np.max(image[x:x + xKer, y:y + yKer])\n",
    "                \n",
    "    return output.astype('uint8')"
   ]
  },
  {
   "cell_type": "code",
   "execution_count": 96,
   "metadata": {},
   "outputs": [
    {
     "name": "stdout",
     "output_type": "stream",
     "text": [
      "Có lỗi bất thường! Chúc bạn may mắn lần chạy kế tiếp!\n"
     ]
    },
    {
     "name": "stderr",
     "output_type": "stream",
     "text": [
      "C:\\Users\\trans\\AppData\\Local\\Temp\\ipykernel_25052\\2489184735.py:4: RuntimeWarning: overflow encountered in scalar add\n",
      "  assert_numbers(124970, sum(sum(max_gray)))\n"
     ]
    },
    {
     "data": {
      "text/plain": [
       "True"
      ]
     },
     "execution_count": 96,
     "metadata": {},
     "output_type": "execute_result"
    }
   ],
   "source": []
  },
  {
   "cell_type": "code",
   "execution_count": 97,
   "metadata": {},
   "outputs": [],
   "source": [
    "def findEdgeUsingCanny(gaussianImg):\n",
    "    low_t = 5\n",
    "    high_t = 100\n",
    "\n",
    "    #start your code here\n",
    "    edges = cv2.Canny(image=gaussianImg, threshold1=low_t, threshold2=high_t)\n",
    "    # end your code here\n",
    "\n",
    "    return edges"
   ]
  },
  {
   "cell_type": "code",
   "execution_count": 98,
   "metadata": {},
   "outputs": [
    {
     "name": "stdout",
     "output_type": "stream",
     "text": [
      "Có lỗi bất thường! Chúc bạn may mắn lần chạy kế tiếp!\n"
     ]
    },
    {
     "name": "stderr",
     "output_type": "stream",
     "text": [
      "C:\\Users\\trans\\AppData\\Local\\Temp\\ipykernel_25052\\1936455039.py:5: RuntimeWarning: overflow encountered in scalar add\n",
      "  assert_numbers(145687, sum(sum(ege_img)))\n"
     ]
    },
    {
     "data": {
      "text/plain": [
       "True"
      ]
     },
     "execution_count": 98,
     "metadata": {},
     "output_type": "execute_result"
    }
   ],
   "source": [
    "input_image = cv2.imread(\"PEreview.png\", cv2. IMREAD_COLOR)\n",
    "gray_image = midRangeGrayscale(input_image)\n",
    "max_gray = computeMaxFilter(gray_image)\n",
    "ege_img = findEdgeUsingCanny(max_gray)\n",
    "assert_numbers(145687, sum(sum(ege_img)))\n",
    "cv2.imwrite(\"ege_img.png\", ege_img)"
   ]
  },
  {
   "cell_type": "code",
   "execution_count": 99,
   "metadata": {},
   "outputs": [],
   "source": [
    "def hough_transform(image):\n",
    "    # Distance resolution of the accumulator in pixels.\n",
    "    rho = 1\n",
    "    # Angle resolution of the accumulator in radians.\n",
    "    theta = np.pi/180\n",
    "    # Only lines that are greater than threshold will be returned.\n",
    "    threshold = 1\n",
    "    # Line segments shorter than that are rejected.\n",
    "    wminLineLength = 100\n",
    "    # Maximum allowed gap between points on the same line to link them\n",
    "    maxLineGap = 100\n",
    "\n",
    "    # start your code here\n",
    "\n",
    "    lines = cv2.HoughLinesP(image, rho, theta, threshold, minLineLength=wminLineLength, maxLineGap=maxLineGap)\n",
    "\n",
    "    # end your code here\n",
    "\n",
    "    return lines"
   ]
  },
  {
   "cell_type": "code",
   "execution_count": 100,
   "metadata": {},
   "outputs": [],
   "source": [
    "input_image = cv2.imread(\"PEreview.png\", cv2. IMREAD_COLOR)\n",
    "gray_image = midRangeGrayscale(input_image)\n",
    "max_gray = computeMaxFilter(gray_image)\n",
    "ege_img = findEdgeUsingCanny(max_gray)\n",
    "lines = hough_transform(ege_img)"
   ]
  },
  {
   "cell_type": "code",
   "execution_count": 101,
   "metadata": {},
   "outputs": [
    {
     "data": {
      "text/plain": [
       "True"
      ]
     },
     "execution_count": 101,
     "metadata": {},
     "output_type": "execute_result"
    }
   ],
   "source": [
    "color = (0, 0, 255)\n",
    "thickness = 2\n",
    "lines = lines. reshape(lines. shape[0], 4)\n",
    "\n",
    "# start your code here\n",
    "for line in lines:\n",
    "    x1, y1, x2, y2 = line  # Unpack the coordinates of the line\n",
    "    cv2.line(input_image, (x1, y1), (x2, y2), color, thickness)\n",
    "# draw first line to the input image\n",
    "\n",
    "# end your code here\n",
    "cv2.imwrite(\"lines.png\", input_image)"
   ]
  }
 ],
 "metadata": {
  "kernelspec": {
   "display_name": "Python 3",
   "language": "python",
   "name": "python3"
  },
  "language_info": {
   "codemirror_mode": {
    "name": "ipython",
    "version": 3
   },
   "file_extension": ".py",
   "mimetype": "text/x-python",
   "name": "python",
   "nbconvert_exporter": "python",
   "pygments_lexer": "ipython3",
   "version": "3.10.2"
  }
 },
 "nbformat": 4,
 "nbformat_minor": 2
}
