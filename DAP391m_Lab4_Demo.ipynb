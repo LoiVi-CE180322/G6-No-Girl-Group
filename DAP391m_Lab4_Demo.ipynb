{
  "cells": [
    {
      "cell_type": "code",
      "execution_count": 1,
      "metadata": {
        "colab": {
          "base_uri": "https://localhost:8080/"
        },
        "id": "aXjR0iOrJQyk",
        "outputId": "73f69457-116a-42ec-9f0b-531821835842"
      },
      "outputs": [
        {
          "output_type": "stream",
          "name": "stdout",
          "text": [
            "Requirement already satisfied: flask in /usr/local/lib/python3.10/dist-packages (2.2.5)\n",
            "Collecting flask-ngrok\n",
            "  Downloading flask_ngrok-0.0.25-py3-none-any.whl.metadata (1.8 kB)\n",
            "Collecting ibm-db\n",
            "  Downloading ibm_db-3.2.3-cp310-cp310-manylinux_2_17_x86_64.manylinux2014_x86_64.whl.metadata (1.4 kB)\n",
            "Requirement already satisfied: pandas in /usr/local/lib/python3.10/dist-packages (2.2.2)\n",
            "Requirement already satisfied: Werkzeug>=2.2.2 in /usr/local/lib/python3.10/dist-packages (from flask) (3.0.4)\n",
            "Requirement already satisfied: Jinja2>=3.0 in /usr/local/lib/python3.10/dist-packages (from flask) (3.1.4)\n",
            "Requirement already satisfied: itsdangerous>=2.0 in /usr/local/lib/python3.10/dist-packages (from flask) (2.2.0)\n",
            "Requirement already satisfied: click>=8.0 in /usr/local/lib/python3.10/dist-packages (from flask) (8.1.7)\n",
            "Requirement already satisfied: requests in /usr/local/lib/python3.10/dist-packages (from flask-ngrok) (2.32.3)\n",
            "Requirement already satisfied: numpy>=1.22.4 in /usr/local/lib/python3.10/dist-packages (from pandas) (1.26.4)\n",
            "Requirement already satisfied: python-dateutil>=2.8.2 in /usr/local/lib/python3.10/dist-packages (from pandas) (2.8.2)\n",
            "Requirement already satisfied: pytz>=2020.1 in /usr/local/lib/python3.10/dist-packages (from pandas) (2024.2)\n",
            "Requirement already satisfied: tzdata>=2022.7 in /usr/local/lib/python3.10/dist-packages (from pandas) (2024.2)\n",
            "Requirement already satisfied: MarkupSafe>=2.0 in /usr/local/lib/python3.10/dist-packages (from Jinja2>=3.0->flask) (3.0.2)\n",
            "Requirement already satisfied: six>=1.5 in /usr/local/lib/python3.10/dist-packages (from python-dateutil>=2.8.2->pandas) (1.16.0)\n",
            "Requirement already satisfied: charset-normalizer<4,>=2 in /usr/local/lib/python3.10/dist-packages (from requests->flask-ngrok) (3.4.0)\n",
            "Requirement already satisfied: idna<4,>=2.5 in /usr/local/lib/python3.10/dist-packages (from requests->flask-ngrok) (3.10)\n",
            "Requirement already satisfied: urllib3<3,>=1.21.1 in /usr/local/lib/python3.10/dist-packages (from requests->flask-ngrok) (2.2.3)\n",
            "Requirement already satisfied: certifi>=2017.4.17 in /usr/local/lib/python3.10/dist-packages (from requests->flask-ngrok) (2024.8.30)\n",
            "Downloading flask_ngrok-0.0.25-py3-none-any.whl (3.1 kB)\n",
            "Downloading ibm_db-3.2.3-cp310-cp310-manylinux_2_17_x86_64.manylinux2014_x86_64.whl (43.6 MB)\n",
            "\u001b[2K   \u001b[90m━━━━━━━━━━━━━━━━━━━━━━━━━━━━━━━━━━━━━━━━\u001b[0m \u001b[32m43.6/43.6 MB\u001b[0m \u001b[31m25.4 MB/s\u001b[0m eta \u001b[36m0:00:00\u001b[0m\n",
            "\u001b[?25hInstalling collected packages: ibm-db, flask-ngrok\n",
            "Successfully installed flask-ngrok-0.0.25 ibm-db-3.2.3\n"
          ]
        }
      ],
      "source": [
        "!pip install flask flask-ngrok ibm-db pandas"
      ]
    },
    {
      "cell_type": "code",
      "execution_count": 2,
      "metadata": {
        "id": "kbLCVASrItdJ"
      },
      "outputs": [],
      "source": [
        "from flask import Flask, render_template, request, redirect, url_for\n",
        "from flask_ngrok import run_with_ngrok\n",
        "import ibm_db\n",
        "import pandas as pd\n",
        "import os"
      ]
    },
    {
      "cell_type": "code",
      "execution_count": 3,
      "metadata": {
        "id": "Wp2SJdJ-JimU"
      },
      "outputs": [],
      "source": [
        "# IBM DB2 connection setup\n",
        "dsn_hostname = os.getenv('DB_HOST', '764264db-9824-4b7c-82df-40d1b13897c2.bs2io90l08kqb1od8lcg.databases.appdomain.cloud')\n",
        "dsn_uid = os.getenv('DB_UID', 'rrp03094')\n",
        "dsn_pwd = os.getenv('DB_PWD', 'yK5spscaxtWuPnE2')\n",
        "dsn_port = os.getenv('DB_PORT', '32536')\n",
        "dsn_database = \"bludb\"\n",
        "dsn_driver = \"{IBM DB2 ODBC DRIVER}\"\n",
        "dsn_protocol = \"TCPIP\"\n",
        "dsn_security = \"SSL\"\n",
        "\n",
        "dsn = (\n",
        "    \"DRIVER={0};\"\n",
        "    \"DATABASE={1};\"\n",
        "    \"HOSTNAME={2};\"\n",
        "    \"PORT={3};\"\n",
        "    \"PROTOCOL={4};\"\n",
        "    \"UID={5};\"\n",
        "    \"PWD={6};\"\n",
        "    \"SECURITY={7};\").format(dsn_driver, dsn_database, dsn_hostname, dsn_port, dsn_protocol, dsn_uid, dsn_pwd, dsn_security)"
      ]
    },
    {
      "cell_type": "code",
      "execution_count": 4,
      "metadata": {
        "id": "1NE0zdzHKLc_"
      },
      "outputs": [],
      "source": [
        "# Fetch students from DB2\n",
        "def fetch_students():\n",
        "    try:\n",
        "        conn = ibm_db.connect(dsn, \"\", \"\")\n",
        "        query = \"SELECT * FROM STUDENTS\"\n",
        "        stmt = ibm_db.exec_immediate(conn, query)\n",
        "        rows = []\n",
        "        result = ibm_db.fetch_assoc(stmt)\n",
        "        while result:\n",
        "            rows.append(result)\n",
        "            result = ibm_db.fetch_assoc(stmt)\n",
        "        df = pd.DataFrame(rows)\n",
        "        return df\n",
        "    except Exception as e:\n",
        "        print(\"Error fetching students from DB2: \", str(e))\n",
        "        return None\n",
        "    finally:\n",
        "        if 'conn' in locals():\n",
        "            ibm_db.close(conn)"
      ]
    },
    {
      "cell_type": "code",
      "execution_count": 5,
      "metadata": {
        "id": "G7_JIm3MKQc1"
      },
      "outputs": [],
      "source": [
        "# Add a student to DB2\n",
        "def add_student(name, birth_date, student_id, major):\n",
        "    try:\n",
        "        conn = ibm_db.connect(dsn, \"\", \"\")\n",
        "        query = \"\"\"\n",
        "        INSERT INTO STUDENTS (\"TEN_SINH_VIEN\", \"NGAY_SINH\", \"MA_SV\", \"CHUYEN_NGANH\")\n",
        "        VALUES (?, ?, ?, ?)\n",
        "        \"\"\"\n",
        "        stmt = ibm_db.prepare(conn, query)\n",
        "        ibm_db.bind_param(stmt, 1, name)\n",
        "        ibm_db.bind_param(stmt, 2, birth_date)\n",
        "        ibm_db.bind_param(stmt, 3, student_id)\n",
        "        ibm_db.bind_param(stmt, 4, major)\n",
        "        ibm_db.execute(stmt)\n",
        "    except Exception as e:\n",
        "        print(\"Error adding student to DB2: \", str(e))\n",
        "    finally:\n",
        "      pass\n",
        "    return redirect(url_for('index'))"
      ]
    },
    {
      "cell_type": "code",
      "execution_count": 6,
      "metadata": {
        "id": "dIGY1zpHKT8c"
      },
      "outputs": [],
      "source": [
        "# Delete a student from DB2\n",
        "def delete_student(student_id):\n",
        "    try:\n",
        "        conn = ibm_db.connect(dsn, \"\", \"\")\n",
        "        query = \"DELETE FROM STUDENTS WHERE \\\"MA_SV\\\" = ?\"\n",
        "        stmt = ibm_db.prepare(conn, query)\n",
        "        ibm_db.bind_param(stmt, 1, student_id)\n",
        "        ibm_db.execute(stmt)\n",
        "    except Exception as e:\n",
        "        print(\"Error deleting student from DB2: \", str(e))\n",
        "    finally:\n",
        "        if 'conn' in locals():\n",
        "            ibm_db.close(conn)"
      ]
    },
    {
      "cell_type": "code",
      "source": [
        "cd /content/drive/MyDrive"
      ],
      "metadata": {
        "colab": {
          "base_uri": "https://localhost:8080/"
        },
        "id": "WgAOi_sKjOUI",
        "outputId": "17b3ec82-162e-4bec-ca2a-0163f9b1f367"
      },
      "execution_count": 7,
      "outputs": [
        {
          "output_type": "stream",
          "name": "stdout",
          "text": [
            "/content/drive/MyDrive\n"
          ]
        }
      ]
    },
    {
      "cell_type": "code",
      "source": [
        "from google.colab.output import eval_js\n",
        "print(eval_js(\"google.colab.kernel.proxyPort(8000)\"))"
      ],
      "metadata": {
        "colab": {
          "base_uri": "https://localhost:8080/",
          "height": 34
        },
        "id": "XTadmRNSkLgZ",
        "outputId": "957ae95b-16d8-401c-e444-eb59df39b0c3"
      },
      "execution_count": 8,
      "outputs": [
        {
          "output_type": "stream",
          "name": "stdout",
          "text": [
            "https://b1w56t1fojk-496ff2e9c6d22116-8000-colab.googleusercontent.com/\n"
          ]
        }
      ]
    },
    {
      "cell_type": "code",
      "source": [
        "app = Flask(__name__)\n"
      ],
      "metadata": {
        "id": "6t6cUN35kNzC"
      },
      "execution_count": 9,
      "outputs": []
    },
    {
      "cell_type": "code",
      "execution_count": 10,
      "metadata": {
        "colab": {
          "base_uri": "https://localhost:8080/"
        },
        "id": "6U2hXsZ4KbP1",
        "outputId": "ba18d773-b0fa-4f89-97d4-f833b691282a"
      },
      "outputs": [
        {
          "output_type": "stream",
          "name": "stdout",
          "text": [
            " * Serving Flask app '__main__'\n",
            " * Debug mode: off\n"
          ]
        },
        {
          "output_type": "stream",
          "name": "stderr",
          "text": [
            "INFO:werkzeug:\u001b[31m\u001b[1mWARNING: This is a development server. Do not use it in a production deployment. Use a production WSGI server instead.\u001b[0m\n",
            " * Running on http://127.0.0.1:8000\n",
            "INFO:werkzeug:\u001b[33mPress CTRL+C to quit\u001b[0m\n",
            "INFO:werkzeug:127.0.0.1 - - [23/Oct/2024 13:29:55] \"GET / HTTP/1.1\" 200 -\n",
            "INFO:werkzeug:127.0.0.1 - - [23/Oct/2024 13:29:57] \"\u001b[33mGET /favicon.ico HTTP/1.1\u001b[0m\" 404 -\n",
            "INFO:werkzeug:127.0.0.1 - - [23/Oct/2024 13:30:49] \"POST / HTTP/1.1\" 200 -\n",
            "INFO:werkzeug:127.0.0.1 - - [23/Oct/2024 13:30:51] \"\u001b[33mGET /favicon.ico HTTP/1.1\u001b[0m\" 404 -\n",
            "INFO:werkzeug:127.0.0.1 - - [23/Oct/2024 13:30:59] \"POST / HTTP/1.1\" 200 -\n",
            "INFO:werkzeug:127.0.0.1 - - [23/Oct/2024 13:31:00] \"\u001b[33mGET /favicon.ico HTTP/1.1\u001b[0m\" 404 -\n"
          ]
        }
      ],
      "source": [
        "# Main route to display student data and handle add/delete requests\n",
        "@app.route('/', methods=['GET', 'POST'])\n",
        "def index():\n",
        "    if request.method == 'POST':\n",
        "        if 'add' in request.form:\n",
        "            name = request.form['name']\n",
        "            birth_date = request.form['birth_date']\n",
        "            student_id = request.form['student_id']\n",
        "            major = request.form['major']\n",
        "            # Add student to DB2\n",
        "            add_student(name, birth_date, student_id, major)\n",
        "        elif 'delete' in request.form:\n",
        "            student_id = request.form['student_id']\n",
        "            # Delete student from DB2\n",
        "            delete_student(student_id)\n",
        "\n",
        "    # Fetch updated student list from DB2 and display\n",
        "    students = fetch_students()\n",
        "    return render_template('index.html', students=students)\n",
        "\n",
        "# Run the Flask app\n",
        "if __name__ == '__main__':\n",
        "    app.run(port=8000)"
      ]
    },
    {
      "cell_type": "code",
      "execution_count": 10,
      "metadata": {
        "id": "jEpc4kuNN8HG"
      },
      "outputs": [],
      "source": []
    }
  ],
  "metadata": {
    "colab": {
      "gpuType": "T4",
      "provenance": []
    },
    "kernelspec": {
      "display_name": "Python 3",
      "name": "python3"
    },
    "language_info": {
      "name": "python"
    }
  },
  "nbformat": 4,
  "nbformat_minor": 0
}